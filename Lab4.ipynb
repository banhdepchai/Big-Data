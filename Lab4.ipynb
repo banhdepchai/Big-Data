{
  "nbformat": 4,
  "nbformat_minor": 0,
  "metadata": {
    "colab": {
      "provenance": [],
      "toc_visible": true,
      "authorship_tag": "ABX9TyOstWSz0LeVOIFYFqkyLoHg",
      "include_colab_link": true
    },
    "kernelspec": {
      "name": "python3",
      "display_name": "Python 3"
    },
    "language_info": {
      "name": "python"
    }
  },
  "cells": [
    {
      "cell_type": "markdown",
      "metadata": {
        "id": "view-in-github",
        "colab_type": "text"
      },
      "source": [
        "<a href=\"https://colab.research.google.com/github/banhdepchai/IS405.O11-BigData/blob/main/Lab4.ipynb\" target=\"_parent\"><img src=\"https://colab.research.google.com/assets/colab-badge.svg\" alt=\"Open In Colab\"/></a>"
      ]
    },
    {
      "cell_type": "code",
      "source": [
        "from google.colab import drive\n",
        "drive.mount('/content/drive')"
      ],
      "metadata": {
        "colab": {
          "base_uri": "https://localhost:8080/"
        },
        "id": "cRw6Rs698iCx",
        "outputId": "ea76e5fb-53b9-4592-f18a-6225c435a284"
      },
      "execution_count": null,
      "outputs": [
        {
          "output_type": "stream",
          "name": "stdout",
          "text": [
            "Drive already mounted at /content/drive; to attempt to forcibly remount, call drive.mount(\"/content/drive\", force_remount=True).\n"
          ]
        }
      ]
    },
    {
      "cell_type": "code",
      "execution_count": null,
      "metadata": {
        "colab": {
          "base_uri": "https://localhost:8080/",
          "height": 348
        },
        "id": "rnwaru3h78nv",
        "outputId": "c1406d75-36d3-49e6-d978-91b0a227ea01"
      },
      "outputs": [
        {
          "output_type": "stream",
          "name": "stdout",
          "text": [
            "\u001b[33m\r0% [Working]\u001b[0m\r            \rHit:1 https://cloud.r-project.org/bin/linux/ubuntu jammy-cran40/ InRelease\n",
            "Hit:2 https://developer.download.nvidia.com/compute/cuda/repos/ubuntu2204/x86_64  InRelease\n",
            "Get:3 http://security.ubuntu.com/ubuntu jammy-security InRelease [110 kB]\n",
            "Hit:4 http://archive.ubuntu.com/ubuntu jammy InRelease\n",
            "Get:5 http://archive.ubuntu.com/ubuntu jammy-updates InRelease [119 kB]\n",
            "Hit:6 https://ppa.launchpadcontent.net/c2d4u.team/c2d4u4.0+/ubuntu jammy InRelease\n",
            "Hit:7 https://ppa.launchpadcontent.net/deadsnakes/ppa/ubuntu jammy InRelease\n",
            "Hit:8 https://ppa.launchpadcontent.net/graphics-drivers/ppa/ubuntu jammy InRelease\n",
            "Hit:9 https://ppa.launchpadcontent.net/ubuntugis/ppa/ubuntu jammy InRelease\n",
            "Hit:10 http://archive.ubuntu.com/ubuntu jammy-backports InRelease\n",
            "Get:11 http://archive.ubuntu.com/ubuntu jammy-updates/main amd64 Packages [1,472 kB]\n",
            "Fetched 1,701 kB in 3s (567 kB/s)\n",
            "Reading package lists... Done\n",
            "Building dependency tree... Done\n",
            "Reading state information... Done\n",
            "14 packages can be upgraded. Run 'apt list --upgradable' to see them.\n",
            "Requirement already satisfied: pyspark in /usr/local/lib/python3.10/dist-packages (3.5.0)\n",
            "Requirement already satisfied: py4j==0.10.9.7 in /usr/local/lib/python3.10/dist-packages (from pyspark) (0.10.9.7)\n"
          ]
        },
        {
          "output_type": "execute_result",
          "data": {
            "text/plain": [
              "'/content/spark-3.5.0-bin-hadoop3'"
            ],
            "application/vnd.google.colaboratory.intrinsic+json": {
              "type": "string"
            }
          },
          "metadata": {},
          "execution_count": 2
        }
      ],
      "source": [
        "!sudo apt update\n",
        "!apt-get install openjdk-8-jdk-headless -qq > /dev/null\n",
        "!wget -q https://dlcdn.apache.org/spark/spark-3.5.0/spark-3.5.0-bin-hadoop3.tgz\n",
        "!tar xf spark-3.5.0-bin-hadoop3.tgz\n",
        "!pip install -q findspark\n",
        "!pip install pyspark\n",
        "\n",
        "import os\n",
        "os.environ[\"JAVA_HOME\"] = \"/usr/lib/jvm/java-8-openjdk-amd64\"\n",
        "os.environ[\"SPARK_HOME\"] = \"/content/spark-3.5.0-bin-hadoop3\"\n",
        "\n",
        "import findspark\n",
        "findspark.init()\n",
        "findspark.find()"
      ]
    },
    {
      "cell_type": "code",
      "source": [
        "%cd /content/drive/MyDrive/Colab Notebooks/Big Data/Lab4"
      ],
      "metadata": {
        "colab": {
          "base_uri": "https://localhost:8080/"
        },
        "id": "ZNQCAN719_Zk",
        "outputId": "78638e51-67be-42f4-ea80-c9b283fa188b"
      },
      "execution_count": null,
      "outputs": [
        {
          "output_type": "stream",
          "name": "stdout",
          "text": [
            "/content/drive/MyDrive/Colab Notebooks/Big Data/Lab4\n"
          ]
        }
      ]
    },
    {
      "cell_type": "code",
      "source": [
        "from pyspark.sql import DataFrame, SparkSession\n",
        "from typing import List\n",
        "import pyspark.sql.types as T\n",
        "import pyspark.sql.functions as F\n",
        "\n",
        "spark = SparkSession \\\n",
        "       .builder \\\n",
        "       .appName(\"Lab4\") \\\n",
        "       .getOrCreate()\n",
        "\n",
        "spark"
      ],
      "metadata": {
        "colab": {
          "base_uri": "https://localhost:8080/",
          "height": 219
        },
        "id": "Ir_gLayk8ZId",
        "outputId": "fb8f355a-a9c1-4396-b7cc-b5a8e0fe1a57"
      },
      "execution_count": null,
      "outputs": [
        {
          "output_type": "execute_result",
          "data": {
            "text/plain": [
              "<pyspark.sql.session.SparkSession at 0x785cc05d1b70>"
            ],
            "text/html": [
              "\n",
              "            <div>\n",
              "                <p><b>SparkSession - in-memory</b></p>\n",
              "                \n",
              "        <div>\n",
              "            <p><b>SparkContext</b></p>\n",
              "\n",
              "            <p><a href=\"http://64c41693e2cb:4040\">Spark UI</a></p>\n",
              "\n",
              "            <dl>\n",
              "              <dt>Version</dt>\n",
              "                <dd><code>v3.5.0</code></dd>\n",
              "              <dt>Master</dt>\n",
              "                <dd><code>local[*]</code></dd>\n",
              "              <dt>AppName</dt>\n",
              "                <dd><code>Lab4</code></dd>\n",
              "            </dl>\n",
              "        </div>\n",
              "        \n",
              "            </div>\n",
              "        "
            ]
          },
          "metadata": {},
          "execution_count": 4
        }
      ]
    },
    {
      "cell_type": "markdown",
      "source": [
        "# Lab4: DataFrame và Spark SQL"
      ],
      "metadata": {
        "id": "4A8A-lwUCYjV"
      }
    },
    {
      "cell_type": "markdown",
      "source": [
        "## Bài tập 1: Tạo và thao tác với DataFrame từ JSON"
      ],
      "metadata": {
        "id": "5kVHyIYUBNw8"
      }
    },
    {
      "cell_type": "markdown",
      "source": [
        "a. Tạo DataFrame từ nội dung của file JSON"
      ],
      "metadata": {
        "id": "YWbVgzFFIF-k"
      }
    },
    {
      "cell_type": "code",
      "source": [
        "df_people = spark.read.json(\"people.json\")"
      ],
      "metadata": {
        "id": "Ukb2nixiArgM"
      },
      "execution_count": null,
      "outputs": []
    },
    {
      "cell_type": "markdown",
      "source": [
        "b. Hiển thị nội dung của DataFrame ra stdout\n",
        "\n"
      ],
      "metadata": {
        "id": "Cf1VXchwIIXo"
      }
    },
    {
      "cell_type": "code",
      "source": [
        "df_people.show()"
      ],
      "metadata": {
        "colab": {
          "base_uri": "https://localhost:8080/"
        },
        "id": "uir4sWleBHkF",
        "outputId": "5426f719-5f5b-4aee-c2cc-2d5d1cef4bbb"
      },
      "execution_count": null,
      "outputs": [
        {
          "output_type": "stream",
          "name": "stdout",
          "text": [
            "+----+-------+\n",
            "| age|   name|\n",
            "+----+-------+\n",
            "|NULL|Michael|\n",
            "|  30|   Andy|\n",
            "|  19| Justin|\n",
            "+----+-------+\n",
            "\n"
          ]
        }
      ]
    },
    {
      "cell_type": "markdown",
      "source": [
        "c.  In ra stdout cấu trúc của DataFrame theo dạng cây"
      ],
      "metadata": {
        "id": "QBv5KLwVIOWf"
      }
    },
    {
      "cell_type": "code",
      "source": [
        "df_people.printSchema()"
      ],
      "metadata": {
        "colab": {
          "base_uri": "https://localhost:8080/"
        },
        "id": "APe5Vi5rBvSe",
        "outputId": "db776989-4acf-4084-a5c3-c65486458f17"
      },
      "execution_count": null,
      "outputs": [
        {
          "output_type": "stream",
          "name": "stdout",
          "text": [
            "root\n",
            " |-- age: long (nullable = true)\n",
            " |-- name: string (nullable = true)\n",
            "\n"
          ]
        }
      ]
    },
    {
      "cell_type": "markdown",
      "source": [
        "d. Chọn duy nhất một cột “name” để hiển thị"
      ],
      "metadata": {
        "id": "69fP5TBIIQ1k"
      }
    },
    {
      "cell_type": "code",
      "source": [
        "df_people.select(\"name\").show()"
      ],
      "metadata": {
        "colab": {
          "base_uri": "https://localhost:8080/"
        },
        "id": "C3voZNBLBvPs",
        "outputId": "b63b1cc0-5984-4782-d97c-2d5f1256485f"
      },
      "execution_count": null,
      "outputs": [
        {
          "output_type": "stream",
          "name": "stdout",
          "text": [
            "+-------+\n",
            "|   name|\n",
            "+-------+\n",
            "|Michael|\n",
            "|   Andy|\n",
            "| Justin|\n",
            "+-------+\n",
            "\n"
          ]
        }
      ]
    },
    {
      "cell_type": "markdown",
      "source": [
        "e. Hiển thị toàn bộ các cột với tất cả giá trị của cột “age” tăng thêm 1"
      ],
      "metadata": {
        "id": "pv2_D90jIS_E"
      }
    },
    {
      "cell_type": "code",
      "source": [
        "df_people.select(df_people['name'], df_people['age'] + 1).show()"
      ],
      "metadata": {
        "colab": {
          "base_uri": "https://localhost:8080/"
        },
        "id": "v_xVu8rkBvNA",
        "outputId": "cc10a98c-f409-490a-a33e-fed65134d855"
      },
      "execution_count": null,
      "outputs": [
        {
          "output_type": "stream",
          "name": "stdout",
          "text": [
            "+-------+---------+\n",
            "|   name|(age + 1)|\n",
            "+-------+---------+\n",
            "|Michael|     NULL|\n",
            "|   Andy|       31|\n",
            "| Justin|       20|\n",
            "+-------+---------+\n",
            "\n"
          ]
        }
      ]
    },
    {
      "cell_type": "markdown",
      "source": [
        "f. Lọc ra những người có tuổi lớn hơn 21"
      ],
      "metadata": {
        "id": "qedmeeJAIVMV"
      }
    },
    {
      "cell_type": "code",
      "source": [
        "df_people.filter(df_people['age'] > 21).show()"
      ],
      "metadata": {
        "colab": {
          "base_uri": "https://localhost:8080/"
        },
        "id": "t225Dy3FBvKW",
        "outputId": "8e52ad60-64a8-4bbc-b48a-d711eed15a30"
      },
      "execution_count": null,
      "outputs": [
        {
          "output_type": "stream",
          "name": "stdout",
          "text": [
            "+---+----+\n",
            "|age|name|\n",
            "+---+----+\n",
            "| 30|Andy|\n",
            "+---+----+\n",
            "\n"
          ]
        }
      ]
    },
    {
      "cell_type": "markdown",
      "source": [
        "g. Đếm số người theo từng độ tuổi"
      ],
      "metadata": {
        "id": "MBjbN2OvIaEE"
      }
    },
    {
      "cell_type": "code",
      "source": [
        "df_people.groupBy(\"age\").count().show()"
      ],
      "metadata": {
        "colab": {
          "base_uri": "https://localhost:8080/"
        },
        "id": "QxZewfx0BvHU",
        "outputId": "64f2d98c-cc8a-4e2d-dafb-e7c7346afe2a"
      },
      "execution_count": null,
      "outputs": [
        {
          "output_type": "stream",
          "name": "stdout",
          "text": [
            "+----+-----+\n",
            "| age|count|\n",
            "+----+-----+\n",
            "|  19|    1|\n",
            "|NULL|    1|\n",
            "|  30|    1|\n",
            "+----+-----+\n",
            "\n"
          ]
        }
      ]
    },
    {
      "cell_type": "markdown",
      "source": [
        "## Bài tập 2: Tạo và thao tác với DataFrame từ file CSV"
      ],
      "metadata": {
        "id": "qDVb0V1GBIM1"
      }
    },
    {
      "cell_type": "markdown",
      "source": [
        "a. Tạo DataFrame từ nội dung của file CSV"
      ],
      "metadata": {
        "id": "7cGispfAPa5u"
      }
    },
    {
      "cell_type": "code",
      "source": [
        "df_ebay = spark.read.format(\"csv\").option(\"header\",\"true\").load(\"ebay.csv\")"
      ],
      "metadata": {
        "id": "83h3Cvci9Pa9"
      },
      "execution_count": null,
      "outputs": []
    },
    {
      "cell_type": "markdown",
      "source": [
        "b. Hiển thị nội dung của DataFrame ra stdout"
      ],
      "metadata": {
        "id": "oj635IrsPcPu"
      }
    },
    {
      "cell_type": "code",
      "source": [
        "df_ebay.show()"
      ],
      "metadata": {
        "colab": {
          "base_uri": "https://localhost:8080/"
        },
        "id": "LKZpfguU-6Vr",
        "outputId": "062460ac-c768-4268-f759-caf0eeb74fd1"
      },
      "execution_count": null,
      "outputs": [
        {
          "output_type": "stream",
          "name": "stdout",
          "text": [
            "+----------+-----+--------+--------------+----------+-------+-----+----+----------+\n",
            "| auctionid|  bid| bidtime|        bidder|bidderrate|openbid|price|item|daystolive|\n",
            "+----------+-----+--------+--------------+----------+-------+-----+----+----------+\n",
            "|8213034705|   95|2.927373|      jake7870|         0|     95|117.5|xbox|         3|\n",
            "|8213034705|  115|2.943484| davidbresler2|         1|     95|117.5|xbox|         3|\n",
            "|8213034705|  100|2.951285|gladimacowgirl|        58|     95|117.5|xbox|         3|\n",
            "|8213034705|117.5|2.998947|       daysrus|        10|     95|117.5|xbox|         3|\n",
            "|8213060420|    2|0.065266|    donnie4814|         5|      1|  120|xbox|         3|\n",
            "|8213060420|15.25|0.123218|   myreeceyboy|        52|      1|  120|xbox|         3|\n",
            "|8213060420|    3|0.186539|  parakeet2004|         5|      1|  120|xbox|         3|\n",
            "|8213060420|   10| 0.18669|  parakeet2004|         5|      1|  120|xbox|         3|\n",
            "|8213060420|24.99|0.187049|  parakeet2004|         5|      1|  120|xbox|         3|\n",
            "|8213060420|   20|0.249491| bluebubbles_1|        25|      1|  120|xbox|         3|\n",
            "|8213060420|   22| 0.24956| bluebubbles_1|        25|      1|  120|xbox|         3|\n",
            "|8213060420|   24|0.249653| bluebubbles_1|        25|      1|  120|xbox|         3|\n",
            "|8213060420|   26|0.249757| bluebubbles_1|        25|      1|  120|xbox|         3|\n",
            "|8213060420|   80| 0.59059|        sa4741|         3|      1|  120|xbox|         3|\n",
            "|8213060420|   75|0.657384|     jhnsn2273|        51|      1|  120|xbox|         3|\n",
            "|8213060420|   85|0.657917|     jhnsn2273|        51|      1|  120|xbox|         3|\n",
            "|8213060420|   83|0.816447|        sa4741|         3|      1|  120|xbox|         3|\n",
            "|8213060420|  100|1.005903|        sa4741|         3|      1|  120|xbox|         3|\n",
            "|8213060420|  100|1.012697|     jhnsn2273|        51|      1|  120|xbox|         3|\n",
            "|8213060420|  110|1.013056|     jhnsn2273|        51|      1|  120|xbox|         3|\n",
            "+----------+-----+--------+--------------+----------+-------+-----+----+----------+\n",
            "only showing top 20 rows\n",
            "\n"
          ]
        }
      ]
    },
    {
      "cell_type": "markdown",
      "source": [
        "c. In ra stdout cấu trúc của DataFrame theo dạng cây"
      ],
      "metadata": {
        "id": "7AO-IrSiPfYU"
      }
    },
    {
      "cell_type": "code",
      "source": [
        "df_ebay.printSchema()"
      ],
      "metadata": {
        "colab": {
          "base_uri": "https://localhost:8080/"
        },
        "id": "99vD8d7j-7v5",
        "outputId": "060e4174-a01e-4bc7-a97d-7ccb2a7dd69e"
      },
      "execution_count": null,
      "outputs": [
        {
          "output_type": "stream",
          "name": "stdout",
          "text": [
            "root\n",
            " |-- auctionid: string (nullable = true)\n",
            " |-- bid: string (nullable = true)\n",
            " |-- bidtime: string (nullable = true)\n",
            " |-- bidder: string (nullable = true)\n",
            " |-- bidderrate: string (nullable = true)\n",
            " |-- openbid: string (nullable = true)\n",
            " |-- price: string (nullable = true)\n",
            " |-- item: string (nullable = true)\n",
            " |-- daystolive: string (nullable = true)\n",
            "\n"
          ]
        }
      ]
    },
    {
      "cell_type": "markdown",
      "source": [
        "d. Đếm số cuộc đấu giá đã được tổ chức"
      ],
      "metadata": {
        "id": "bIx36nzFPhAb"
      }
    },
    {
      "cell_type": "code",
      "source": [
        "df_ebay.select(\"auctionid\").distinct().count()"
      ],
      "metadata": {
        "colab": {
          "base_uri": "https://localhost:8080/"
        },
        "id": "mBLmg0SO_JY2",
        "outputId": "c6fab88d-92c9-4665-aecb-2e77e322281b"
      },
      "execution_count": null,
      "outputs": [
        {
          "output_type": "execute_result",
          "data": {
            "text/plain": [
              "627"
            ]
          },
          "metadata": {},
          "execution_count": 15
        }
      ]
    },
    {
      "cell_type": "markdown",
      "source": [
        "e. Đếm số lượng giá đấu trên mỗi mặt hàng"
      ],
      "metadata": {
        "id": "Qh3vHvOcPjdZ"
      }
    },
    {
      "cell_type": "code",
      "source": [
        "df_ebay.groupBy(\"auctionid\", \"item\").count().show()"
      ],
      "metadata": {
        "colab": {
          "base_uri": "https://localhost:8080/"
        },
        "id": "t47wOrpm_JSn",
        "outputId": "e50fd7d7-9068-4b5b-c536-8101c4b422ea"
      },
      "execution_count": null,
      "outputs": [
        {
          "output_type": "stream",
          "name": "stdout",
          "text": [
            "+----------+-------+-----+\n",
            "| auctionid|   item|count|\n",
            "+----------+-------+-----+\n",
            "|1645883276|cartier|   12|\n",
            "|1641242797|cartier|    5|\n",
            "|1642005995|cartier|   18|\n",
            "|3020060476|   palm|   22|\n",
            "|1644681469|cartier|   14|\n",
            "|8212145833|   xbox|   26|\n",
            "|1638844464|cartier|   16|\n",
            "|3020573049|   palm|    2|\n",
            "|3015632013|   palm|   28|\n",
            "|3024659380|   palm|   26|\n",
            "|3025373736|   palm|   15|\n",
            "|8213387659|   xbox|   25|\n",
            "|1643201832|cartier|    4|\n",
            "|3014834745|   palm|   21|\n",
            "|3020257463|   palm|   16|\n",
            "|3020274575|   palm|   11|\n",
            "|3019821569|   palm|   27|\n",
            "|3024707992|   palm|   20|\n",
            "|8212277835|   xbox|    3|\n",
            "|3019326870|   palm|   33|\n",
            "+----------+-------+-----+\n",
            "only showing top 20 rows\n",
            "\n"
          ]
        }
      ]
    },
    {
      "cell_type": "markdown",
      "source": [
        "f. Lọc và hiển thị tất cả những phiên đấu giá có giá đóng cửa lớn hơn 100"
      ],
      "metadata": {
        "id": "5Ns7g0nNPlXY"
      }
    },
    {
      "cell_type": "code",
      "source": [
        "highprice = df_ebay.filter(\"price > 100\")\n",
        "highprice.show()"
      ],
      "metadata": {
        "colab": {
          "base_uri": "https://localhost:8080/"
        },
        "id": "Wq2wgkCaAiOg",
        "outputId": "4fbc496d-1f84-415e-b2e7-d4f764e4ad19"
      },
      "execution_count": null,
      "outputs": [
        {
          "output_type": "stream",
          "name": "stdout",
          "text": [
            "+----------+-----+--------+--------------+----------+-------+-----+----+----------+\n",
            "| auctionid|  bid| bidtime|        bidder|bidderrate|openbid|price|item|daystolive|\n",
            "+----------+-----+--------+--------------+----------+-------+-----+----+----------+\n",
            "|8213034705|   95|2.927373|      jake7870|         0|     95|117.5|xbox|         3|\n",
            "|8213034705|  115|2.943484| davidbresler2|         1|     95|117.5|xbox|         3|\n",
            "|8213034705|  100|2.951285|gladimacowgirl|        58|     95|117.5|xbox|         3|\n",
            "|8213034705|117.5|2.998947|       daysrus|        10|     95|117.5|xbox|         3|\n",
            "|8213060420|    2|0.065266|    donnie4814|         5|      1|  120|xbox|         3|\n",
            "|8213060420|15.25|0.123218|   myreeceyboy|        52|      1|  120|xbox|         3|\n",
            "|8213060420|    3|0.186539|  parakeet2004|         5|      1|  120|xbox|         3|\n",
            "|8213060420|   10| 0.18669|  parakeet2004|         5|      1|  120|xbox|         3|\n",
            "|8213060420|24.99|0.187049|  parakeet2004|         5|      1|  120|xbox|         3|\n",
            "|8213060420|   20|0.249491| bluebubbles_1|        25|      1|  120|xbox|         3|\n",
            "|8213060420|   22| 0.24956| bluebubbles_1|        25|      1|  120|xbox|         3|\n",
            "|8213060420|   24|0.249653| bluebubbles_1|        25|      1|  120|xbox|         3|\n",
            "|8213060420|   26|0.249757| bluebubbles_1|        25|      1|  120|xbox|         3|\n",
            "|8213060420|   80| 0.59059|        sa4741|         3|      1|  120|xbox|         3|\n",
            "|8213060420|   75|0.657384|     jhnsn2273|        51|      1|  120|xbox|         3|\n",
            "|8213060420|   85|0.657917|     jhnsn2273|        51|      1|  120|xbox|         3|\n",
            "|8213060420|   83|0.816447|        sa4741|         3|      1|  120|xbox|         3|\n",
            "|8213060420|  100|1.005903|        sa4741|         3|      1|  120|xbox|         3|\n",
            "|8213060420|  100|1.012697|     jhnsn2273|        51|      1|  120|xbox|         3|\n",
            "|8213060420|  110|1.013056|     jhnsn2273|        51|      1|  120|xbox|         3|\n",
            "+----------+-----+--------+--------------+----------+-------+-----+----+----------+\n",
            "only showing top 20 rows\n",
            "\n"
          ]
        }
      ]
    },
    {
      "cell_type": "markdown",
      "source": [
        "## Bài tập 3: Thao tác với DataFrame bằng ngôn ngữ SQL"
      ],
      "metadata": {
        "id": "G3dVBIaIDkk1"
      }
    },
    {
      "cell_type": "markdown",
      "source": [
        "a. Tạo một khung nhìn tạm (SQL temporary view) từ DataFrame df"
      ],
      "metadata": {
        "id": "Wtq_aR3gItka"
      }
    },
    {
      "cell_type": "code",
      "source": [
        "df_people.createOrReplaceTempView(\"people\")"
      ],
      "metadata": {
        "id": "-__oPmDNCsfe"
      },
      "execution_count": null,
      "outputs": []
    },
    {
      "cell_type": "markdown",
      "source": [
        "b. Truy vấn toàn bộ dữ liệu và hiển thị kết quả"
      ],
      "metadata": {
        "id": "Bom2ggBJIvAq"
      }
    },
    {
      "cell_type": "code",
      "source": [
        "sqlDF = spark.sql(\"SELECT * FROM people\")\n",
        "sqlDF.show()"
      ],
      "metadata": {
        "colab": {
          "base_uri": "https://localhost:8080/"
        },
        "id": "-UXxY9q3Dq5V",
        "outputId": "64e2b86f-5475-4d3f-dad9-528c18b6b72b"
      },
      "execution_count": null,
      "outputs": [
        {
          "output_type": "stream",
          "name": "stdout",
          "text": [
            "+----+-------+\n",
            "| age|   name|\n",
            "+----+-------+\n",
            "|NULL|Michael|\n",
            "|  30|   Andy|\n",
            "|  19| Justin|\n",
            "+----+-------+\n",
            "\n"
          ]
        }
      ]
    },
    {
      "cell_type": "markdown",
      "source": [
        "c. Thực hiện lại toàn bộ các yêu cầu d, e, f, g trong Bài tập 1 bằng truy vấn\n",
        "SQL trong DataFrame."
      ],
      "metadata": {
        "id": "pk4XkULfI3wC"
      }
    },
    {
      "cell_type": "markdown",
      "source": [
        "d. Đếm số cuộc đấu giá đã được tổ chức"
      ],
      "metadata": {
        "id": "nZzrKM82Ey0-"
      }
    },
    {
      "cell_type": "code",
      "source": [
        "sqlDF = spark.sql(\"SELECT name FROM people\")\n",
        "sqlDF.show()"
      ],
      "metadata": {
        "colab": {
          "base_uri": "https://localhost:8080/"
        },
        "id": "7Xzpv4IiDsIP",
        "outputId": "50c00b98-7965-4616-d193-24f94d86af25"
      },
      "execution_count": null,
      "outputs": [
        {
          "output_type": "stream",
          "name": "stdout",
          "text": [
            "+-------+\n",
            "|   name|\n",
            "+-------+\n",
            "|Michael|\n",
            "|   Andy|\n",
            "| Justin|\n",
            "+-------+\n",
            "\n"
          ]
        }
      ]
    },
    {
      "cell_type": "markdown",
      "source": [
        "e. Hiển thị toàn bộ các cột với tất cả giá trị của cột “age” tăng thêm 1"
      ],
      "metadata": {
        "id": "YM2C_ujhGAnC"
      }
    },
    {
      "cell_type": "code",
      "source": [
        "sqlDF = spark.sql(\"SELECT name, age + 1 FROM people\")\n",
        "sqlDF.show()"
      ],
      "metadata": {
        "colab": {
          "base_uri": "https://localhost:8080/"
        },
        "id": "JTSvMVBMGAXN",
        "outputId": "e7724809-104b-460f-bdee-2d49e326e7b4"
      },
      "execution_count": null,
      "outputs": [
        {
          "output_type": "stream",
          "name": "stdout",
          "text": [
            "+-------+---------+\n",
            "|   name|(age + 1)|\n",
            "+-------+---------+\n",
            "|Michael|     NULL|\n",
            "|   Andy|       31|\n",
            "| Justin|       20|\n",
            "+-------+---------+\n",
            "\n"
          ]
        }
      ]
    },
    {
      "cell_type": "markdown",
      "source": [
        "f. Lọc ra những người có tuổi lớn hơn 21"
      ],
      "metadata": {
        "id": "9BC-fQP6Ha9m"
      }
    },
    {
      "cell_type": "code",
      "source": [
        "sqlDF = spark.sql(\"SELECT * FROM people WHERE age > 21\")\n",
        "sqlDF.show()"
      ],
      "metadata": {
        "colab": {
          "base_uri": "https://localhost:8080/"
        },
        "id": "TSKC_rbpHXVi",
        "outputId": "054f4ded-35f1-4c00-f7d5-ce200711a7ee"
      },
      "execution_count": null,
      "outputs": [
        {
          "output_type": "stream",
          "name": "stdout",
          "text": [
            "+---+----+\n",
            "|age|name|\n",
            "+---+----+\n",
            "| 30|Andy|\n",
            "+---+----+\n",
            "\n"
          ]
        }
      ]
    },
    {
      "cell_type": "markdown",
      "source": [
        "g. Đếm số người theo từng độ tuổi"
      ],
      "metadata": {
        "id": "53_kolUsHnq-"
      }
    },
    {
      "cell_type": "code",
      "source": [
        "sqlDF = spark.sql(\"SELECT age, COUNT(*) AS count FROM people GROUP BY age\")\n",
        "sqlDF.show()"
      ],
      "metadata": {
        "colab": {
          "base_uri": "https://localhost:8080/"
        },
        "id": "rQ0ecz-cHnkl",
        "outputId": "0c4dd35c-87cc-477f-e3e6-057cc9597ae4"
      },
      "execution_count": null,
      "outputs": [
        {
          "output_type": "stream",
          "name": "stdout",
          "text": [
            "+----+-----+\n",
            "| age|count|\n",
            "+----+-----+\n",
            "|  19|    1|\n",
            "|NULL|    1|\n",
            "|  30|    1|\n",
            "+----+-----+\n",
            "\n"
          ]
        }
      ]
    },
    {
      "cell_type": "markdown",
      "source": [
        "## Bài tập 4: Thao tác với DataFrame bằng ngôn ngữ SQL"
      ],
      "metadata": {
        "id": "RPqtwBatImOB"
      }
    },
    {
      "cell_type": "markdown",
      "source": [
        "a. Tạo một khung nhìn tạm (SQL temporary view) từ DataFrame df"
      ],
      "metadata": {
        "id": "T6MiVTNAKcoi"
      }
    },
    {
      "cell_type": "code",
      "source": [
        "df_ebay.createOrReplaceTempView(\"ebay\")"
      ],
      "metadata": {
        "id": "wlylZvDzJu5e"
      },
      "execution_count": null,
      "outputs": []
    },
    {
      "cell_type": "markdown",
      "source": [
        "b. Truy vấn toàn bộ dữ liệu và hiển thị kết quả"
      ],
      "metadata": {
        "id": "DyOHepXhKe9A"
      }
    },
    {
      "cell_type": "code",
      "source": [
        "sqlDF = spark.sql(\"SELECT * FROM ebay\")\n",
        "sqlDF.show()"
      ],
      "metadata": {
        "colab": {
          "base_uri": "https://localhost:8080/"
        },
        "id": "GcmqsslrJzth",
        "outputId": "310c6604-efe3-4834-e018-8141d9e2fcca"
      },
      "execution_count": null,
      "outputs": [
        {
          "output_type": "stream",
          "name": "stdout",
          "text": [
            "+----------+-----+--------+--------------+----------+-------+-----+----+----------+\n",
            "| auctionid|  bid| bidtime|        bidder|bidderrate|openbid|price|item|daystolive|\n",
            "+----------+-----+--------+--------------+----------+-------+-----+----+----------+\n",
            "|8213034705|   95|2.927373|      jake7870|         0|     95|117.5|xbox|         3|\n",
            "|8213034705|  115|2.943484| davidbresler2|         1|     95|117.5|xbox|         3|\n",
            "|8213034705|  100|2.951285|gladimacowgirl|        58|     95|117.5|xbox|         3|\n",
            "|8213034705|117.5|2.998947|       daysrus|        10|     95|117.5|xbox|         3|\n",
            "|8213060420|    2|0.065266|    donnie4814|         5|      1|  120|xbox|         3|\n",
            "|8213060420|15.25|0.123218|   myreeceyboy|        52|      1|  120|xbox|         3|\n",
            "|8213060420|    3|0.186539|  parakeet2004|         5|      1|  120|xbox|         3|\n",
            "|8213060420|   10| 0.18669|  parakeet2004|         5|      1|  120|xbox|         3|\n",
            "|8213060420|24.99|0.187049|  parakeet2004|         5|      1|  120|xbox|         3|\n",
            "|8213060420|   20|0.249491| bluebubbles_1|        25|      1|  120|xbox|         3|\n",
            "|8213060420|   22| 0.24956| bluebubbles_1|        25|      1|  120|xbox|         3|\n",
            "|8213060420|   24|0.249653| bluebubbles_1|        25|      1|  120|xbox|         3|\n",
            "|8213060420|   26|0.249757| bluebubbles_1|        25|      1|  120|xbox|         3|\n",
            "|8213060420|   80| 0.59059|        sa4741|         3|      1|  120|xbox|         3|\n",
            "|8213060420|   75|0.657384|     jhnsn2273|        51|      1|  120|xbox|         3|\n",
            "|8213060420|   85|0.657917|     jhnsn2273|        51|      1|  120|xbox|         3|\n",
            "|8213060420|   83|0.816447|        sa4741|         3|      1|  120|xbox|         3|\n",
            "|8213060420|  100|1.005903|        sa4741|         3|      1|  120|xbox|         3|\n",
            "|8213060420|  100|1.012697|     jhnsn2273|        51|      1|  120|xbox|         3|\n",
            "|8213060420|  110|1.013056|     jhnsn2273|        51|      1|  120|xbox|         3|\n",
            "+----------+-----+--------+--------------+----------+-------+-----+----+----------+\n",
            "only showing top 20 rows\n",
            "\n"
          ]
        }
      ]
    },
    {
      "cell_type": "markdown",
      "source": [
        "c. Thực hiện lại toàn bộ các yêu cầu d, e, f trong Bài tập 2 bằng truy vấn SQL\n",
        "trong DataFrame."
      ],
      "metadata": {
        "id": "htlVX6VUKjjv"
      }
    },
    {
      "cell_type": "markdown",
      "source": [
        "d. Đếm số cuộc đấu giá đã được tổ chức bằng câu lệnh"
      ],
      "metadata": {
        "id": "ZRs7dNCTKk-X"
      }
    },
    {
      "cell_type": "code",
      "source": [
        "sqlDF = spark.sql(\"SELECT COUNT(DISTINCT auctionid) FROM ebay\")\n",
        "sqlDF.show()"
      ],
      "metadata": {
        "colab": {
          "base_uri": "https://localhost:8080/"
        },
        "id": "oPSx5obRJ_nV",
        "outputId": "9b360859-57ac-4c51-f318-bafcbe4c6e43"
      },
      "execution_count": null,
      "outputs": [
        {
          "output_type": "stream",
          "name": "stdout",
          "text": [
            "+-------------------------+\n",
            "|count(DISTINCT auctionid)|\n",
            "+-------------------------+\n",
            "|                      627|\n",
            "+-------------------------+\n",
            "\n"
          ]
        }
      ]
    },
    {
      "cell_type": "markdown",
      "source": [
        "e. Đếm số lượng giá đấu trên mỗi mặt hàng"
      ],
      "metadata": {
        "id": "sXQK-iu2Mzon"
      }
    },
    {
      "cell_type": "code",
      "source": [
        "sqlDF = spark.sql(\"SELECT auctionid, item, COUNT(*) AS count FROM ebay GROUP BY auctionid, item\")\n",
        "sqlDF.show()"
      ],
      "metadata": {
        "colab": {
          "base_uri": "https://localhost:8080/"
        },
        "id": "iCwrX0HzMzjD",
        "outputId": "7f3f4a95-aa91-42c4-f108-58e1e1f1f767"
      },
      "execution_count": null,
      "outputs": [
        {
          "output_type": "stream",
          "name": "stdout",
          "text": [
            "+----------+-------+-----+\n",
            "| auctionid|   item|count|\n",
            "+----------+-------+-----+\n",
            "|1645883276|cartier|   12|\n",
            "|1641242797|cartier|    5|\n",
            "|1642005995|cartier|   18|\n",
            "|3020060476|   palm|   22|\n",
            "|1644681469|cartier|   14|\n",
            "|8212145833|   xbox|   26|\n",
            "|1638844464|cartier|   16|\n",
            "|3020573049|   palm|    2|\n",
            "|3015632013|   palm|   28|\n",
            "|3024659380|   palm|   26|\n",
            "|3025373736|   palm|   15|\n",
            "|8213387659|   xbox|   25|\n",
            "|1643201832|cartier|    4|\n",
            "|3014834745|   palm|   21|\n",
            "|3020257463|   palm|   16|\n",
            "|3020274575|   palm|   11|\n",
            "|3019821569|   palm|   27|\n",
            "|3024707992|   palm|   20|\n",
            "|8212277835|   xbox|    3|\n",
            "|3019326870|   palm|   33|\n",
            "+----------+-------+-----+\n",
            "only showing top 20 rows\n",
            "\n"
          ]
        }
      ]
    },
    {
      "cell_type": "markdown",
      "source": [
        "f. Lọc và hiển thị tất cả những phiên đấu giá có giá đóng cửa lớn hơn 100"
      ],
      "metadata": {
        "id": "6ZrPVHr6No3F"
      }
    },
    {
      "cell_type": "code",
      "source": [
        "sqlDF = spark.sql(\"SELECT * FROM ebay WHERE price > 100\")\n",
        "sqlDF.show()"
      ],
      "metadata": {
        "colab": {
          "base_uri": "https://localhost:8080/"
        },
        "id": "wNZ69XptNorn",
        "outputId": "1f61a459-59e1-4aea-e0e5-71b8475339b2"
      },
      "execution_count": null,
      "outputs": [
        {
          "output_type": "stream",
          "name": "stdout",
          "text": [
            "+----------+-----+--------+--------------+----------+-------+-----+----+----------+\n",
            "| auctionid|  bid| bidtime|        bidder|bidderrate|openbid|price|item|daystolive|\n",
            "+----------+-----+--------+--------------+----------+-------+-----+----+----------+\n",
            "|8213034705|   95|2.927373|      jake7870|         0|     95|117.5|xbox|         3|\n",
            "|8213034705|  115|2.943484| davidbresler2|         1|     95|117.5|xbox|         3|\n",
            "|8213034705|  100|2.951285|gladimacowgirl|        58|     95|117.5|xbox|         3|\n",
            "|8213034705|117.5|2.998947|       daysrus|        10|     95|117.5|xbox|         3|\n",
            "|8213060420|    2|0.065266|    donnie4814|         5|      1|  120|xbox|         3|\n",
            "|8213060420|15.25|0.123218|   myreeceyboy|        52|      1|  120|xbox|         3|\n",
            "|8213060420|    3|0.186539|  parakeet2004|         5|      1|  120|xbox|         3|\n",
            "|8213060420|   10| 0.18669|  parakeet2004|         5|      1|  120|xbox|         3|\n",
            "|8213060420|24.99|0.187049|  parakeet2004|         5|      1|  120|xbox|         3|\n",
            "|8213060420|   20|0.249491| bluebubbles_1|        25|      1|  120|xbox|         3|\n",
            "|8213060420|   22| 0.24956| bluebubbles_1|        25|      1|  120|xbox|         3|\n",
            "|8213060420|   24|0.249653| bluebubbles_1|        25|      1|  120|xbox|         3|\n",
            "|8213060420|   26|0.249757| bluebubbles_1|        25|      1|  120|xbox|         3|\n",
            "|8213060420|   80| 0.59059|        sa4741|         3|      1|  120|xbox|         3|\n",
            "|8213060420|   75|0.657384|     jhnsn2273|        51|      1|  120|xbox|         3|\n",
            "|8213060420|   85|0.657917|     jhnsn2273|        51|      1|  120|xbox|         3|\n",
            "|8213060420|   83|0.816447|        sa4741|         3|      1|  120|xbox|         3|\n",
            "|8213060420|  100|1.005903|        sa4741|         3|      1|  120|xbox|         3|\n",
            "|8213060420|  100|1.012697|     jhnsn2273|        51|      1|  120|xbox|         3|\n",
            "|8213060420|  110|1.013056|     jhnsn2273|        51|      1|  120|xbox|         3|\n",
            "+----------+-----+--------+--------------+----------+-------+-----+----+----------+\n",
            "only showing top 20 rows\n",
            "\n"
          ]
        }
      ]
    }
  ]
}